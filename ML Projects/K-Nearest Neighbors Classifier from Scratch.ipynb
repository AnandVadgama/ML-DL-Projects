{
 "cells": [
  {
   "cell_type": "code",
   "execution_count": 1,
   "id": "b880b03d-3564-476b-a41b-64979fc89498",
   "metadata": {},
   "outputs": [],
   "source": [
    "import numpy as np\n",
    "import statistics"
   ]
  },
  {
   "cell_type": "code",
   "execution_count": 2,
   "id": "5d18c07a-f2a8-4a9f-bb23-71136e426f2f",
   "metadata": {},
   "outputs": [],
   "source": [
    "class KNN_classifier():\n",
    "    def __init__(self, distance_metric):\n",
    "        self.distance_metric = distance_metric\n",
    "\n",
    "    def get_distance_metric(self, training_data_point, test_data_point):\n",
    "\n",
    "        if (self.distance_metric == 'Euclidean'):\n",
    "            dist = 0\n",
    "            for i in range(len(training_data_point) - 1):\n",
    "                dist = dist + (training_data_point[i] - test_data_point[i])**2\n",
    "                euclidean_dist = np.sqrt(dist)\n",
    "            return euclidean_dist\n",
    "        elif (self.distance_metric == 'Manhattan'):\n",
    "            dist = 0\n",
    "            for i in range(len(training_data_point) - 1):\n",
    "                dist = dist + abs(training_data_point[i] - test_data_point[i])\n",
    "                manhattan_dist = dist\n",
    "            return manhattan_dist\n",
    "\n",
    "    def nearest_neighbour(self, X_train, test_data, k):\n",
    "        distance_list = []\n",
    "        for training_data in X_train:\n",
    "            distance = self.get_distance_metric(training_data, test_data)\n",
    "            distance_list.append((training_data, distance))\n",
    "        distance_list.sort(key = lambda x:x[1])\n",
    "\n",
    "        neighbors = []\n",
    "        for j in range(k):\n",
    "            neighbors.append(distance_list[j][0])\n",
    "        \n",
    "        return neighbors\n",
    "        \n",
    "\n",
    "    def predict(self, X_train, test_data, k):\n",
    "        neighbors = self.nearest_neighbour(X_train, test_data, k)\n",
    "\n",
    "        lable = []\n",
    "        for data in neighbors:\n",
    "            lable.append(data[-1])\n",
    "        predicted = statistics.mode(lable)\n",
    "        return predicted"
   ]
  },
  {
   "cell_type": "code",
   "execution_count": 3,
   "id": "35dd144b-a870-4029-9a2d-0ff347708ee0",
   "metadata": {},
   "outputs": [],
   "source": [
    "import pandas as pd\n",
    "from sklearn.model_selection import train_test_split\n",
    "from sklearn.metrics import accuracy_score"
   ]
  },
  {
   "cell_type": "code",
   "execution_count": 4,
   "id": "13a17066-8e11-4c50-a06b-8e02957f35e0",
   "metadata": {},
   "outputs": [],
   "source": [
    "diabetes_data = pd.read_csv('diabetes.csv')"
   ]
  },
  {
   "cell_type": "code",
   "execution_count": 5,
   "id": "a3a36314-dec5-4ea9-827e-ab255cb9337c",
   "metadata": {},
   "outputs": [
    {
     "data": {
      "text/html": [
       "<div>\n",
       "<style scoped>\n",
       "    .dataframe tbody tr th:only-of-type {\n",
       "        vertical-align: middle;\n",
       "    }\n",
       "\n",
       "    .dataframe tbody tr th {\n",
       "        vertical-align: top;\n",
       "    }\n",
       "\n",
       "    .dataframe thead th {\n",
       "        text-align: right;\n",
       "    }\n",
       "</style>\n",
       "<table border=\"1\" class=\"dataframe\">\n",
       "  <thead>\n",
       "    <tr style=\"text-align: right;\">\n",
       "      <th></th>\n",
       "      <th>Pregnancies</th>\n",
       "      <th>Glucose</th>\n",
       "      <th>BloodPressure</th>\n",
       "      <th>SkinThickness</th>\n",
       "      <th>Insulin</th>\n",
       "      <th>BMI</th>\n",
       "      <th>DiabetesPedigreeFunction</th>\n",
       "      <th>Age</th>\n",
       "      <th>Outcome</th>\n",
       "    </tr>\n",
       "  </thead>\n",
       "  <tbody>\n",
       "    <tr>\n",
       "      <th>0</th>\n",
       "      <td>6</td>\n",
       "      <td>148</td>\n",
       "      <td>72</td>\n",
       "      <td>35</td>\n",
       "      <td>0</td>\n",
       "      <td>33.6</td>\n",
       "      <td>0.627</td>\n",
       "      <td>50</td>\n",
       "      <td>1</td>\n",
       "    </tr>\n",
       "    <tr>\n",
       "      <th>1</th>\n",
       "      <td>1</td>\n",
       "      <td>85</td>\n",
       "      <td>66</td>\n",
       "      <td>29</td>\n",
       "      <td>0</td>\n",
       "      <td>26.6</td>\n",
       "      <td>0.351</td>\n",
       "      <td>31</td>\n",
       "      <td>0</td>\n",
       "    </tr>\n",
       "    <tr>\n",
       "      <th>2</th>\n",
       "      <td>8</td>\n",
       "      <td>183</td>\n",
       "      <td>64</td>\n",
       "      <td>0</td>\n",
       "      <td>0</td>\n",
       "      <td>23.3</td>\n",
       "      <td>0.672</td>\n",
       "      <td>32</td>\n",
       "      <td>1</td>\n",
       "    </tr>\n",
       "    <tr>\n",
       "      <th>3</th>\n",
       "      <td>1</td>\n",
       "      <td>89</td>\n",
       "      <td>66</td>\n",
       "      <td>23</td>\n",
       "      <td>94</td>\n",
       "      <td>28.1</td>\n",
       "      <td>0.167</td>\n",
       "      <td>21</td>\n",
       "      <td>0</td>\n",
       "    </tr>\n",
       "    <tr>\n",
       "      <th>4</th>\n",
       "      <td>0</td>\n",
       "      <td>137</td>\n",
       "      <td>40</td>\n",
       "      <td>35</td>\n",
       "      <td>168</td>\n",
       "      <td>43.1</td>\n",
       "      <td>2.288</td>\n",
       "      <td>33</td>\n",
       "      <td>1</td>\n",
       "    </tr>\n",
       "    <tr>\n",
       "      <th>...</th>\n",
       "      <td>...</td>\n",
       "      <td>...</td>\n",
       "      <td>...</td>\n",
       "      <td>...</td>\n",
       "      <td>...</td>\n",
       "      <td>...</td>\n",
       "      <td>...</td>\n",
       "      <td>...</td>\n",
       "      <td>...</td>\n",
       "    </tr>\n",
       "    <tr>\n",
       "      <th>763</th>\n",
       "      <td>10</td>\n",
       "      <td>101</td>\n",
       "      <td>76</td>\n",
       "      <td>48</td>\n",
       "      <td>180</td>\n",
       "      <td>32.9</td>\n",
       "      <td>0.171</td>\n",
       "      <td>63</td>\n",
       "      <td>0</td>\n",
       "    </tr>\n",
       "    <tr>\n",
       "      <th>764</th>\n",
       "      <td>2</td>\n",
       "      <td>122</td>\n",
       "      <td>70</td>\n",
       "      <td>27</td>\n",
       "      <td>0</td>\n",
       "      <td>36.8</td>\n",
       "      <td>0.340</td>\n",
       "      <td>27</td>\n",
       "      <td>0</td>\n",
       "    </tr>\n",
       "    <tr>\n",
       "      <th>765</th>\n",
       "      <td>5</td>\n",
       "      <td>121</td>\n",
       "      <td>72</td>\n",
       "      <td>23</td>\n",
       "      <td>112</td>\n",
       "      <td>26.2</td>\n",
       "      <td>0.245</td>\n",
       "      <td>30</td>\n",
       "      <td>0</td>\n",
       "    </tr>\n",
       "    <tr>\n",
       "      <th>766</th>\n",
       "      <td>1</td>\n",
       "      <td>126</td>\n",
       "      <td>60</td>\n",
       "      <td>0</td>\n",
       "      <td>0</td>\n",
       "      <td>30.1</td>\n",
       "      <td>0.349</td>\n",
       "      <td>47</td>\n",
       "      <td>1</td>\n",
       "    </tr>\n",
       "    <tr>\n",
       "      <th>767</th>\n",
       "      <td>1</td>\n",
       "      <td>93</td>\n",
       "      <td>70</td>\n",
       "      <td>31</td>\n",
       "      <td>0</td>\n",
       "      <td>30.4</td>\n",
       "      <td>0.315</td>\n",
       "      <td>23</td>\n",
       "      <td>0</td>\n",
       "    </tr>\n",
       "  </tbody>\n",
       "</table>\n",
       "<p>768 rows × 9 columns</p>\n",
       "</div>"
      ],
      "text/plain": [
       "     Pregnancies  Glucose  BloodPressure  SkinThickness  Insulin   BMI  \\\n",
       "0              6      148             72             35        0  33.6   \n",
       "1              1       85             66             29        0  26.6   \n",
       "2              8      183             64              0        0  23.3   \n",
       "3              1       89             66             23       94  28.1   \n",
       "4              0      137             40             35      168  43.1   \n",
       "..           ...      ...            ...            ...      ...   ...   \n",
       "763           10      101             76             48      180  32.9   \n",
       "764            2      122             70             27        0  36.8   \n",
       "765            5      121             72             23      112  26.2   \n",
       "766            1      126             60              0        0  30.1   \n",
       "767            1       93             70             31        0  30.4   \n",
       "\n",
       "     DiabetesPedigreeFunction  Age  Outcome  \n",
       "0                       0.627   50        1  \n",
       "1                       0.351   31        0  \n",
       "2                       0.672   32        1  \n",
       "3                       0.167   21        0  \n",
       "4                       2.288   33        1  \n",
       "..                        ...  ...      ...  \n",
       "763                     0.171   63        0  \n",
       "764                     0.340   27        0  \n",
       "765                     0.245   30        0  \n",
       "766                     0.349   47        1  \n",
       "767                     0.315   23        0  \n",
       "\n",
       "[768 rows x 9 columns]"
      ]
     },
     "execution_count": 5,
     "metadata": {},
     "output_type": "execute_result"
    }
   ],
   "source": [
    "diabetes_data"
   ]
  },
  {
   "cell_type": "code",
   "execution_count": 6,
   "id": "6e6559f5-17f8-45ce-b64b-1b802d065149",
   "metadata": {},
   "outputs": [
    {
     "data": {
      "text/plain": [
       "Pregnancies                 0\n",
       "Glucose                     0\n",
       "BloodPressure               0\n",
       "SkinThickness               0\n",
       "Insulin                     0\n",
       "BMI                         0\n",
       "DiabetesPedigreeFunction    0\n",
       "Age                         0\n",
       "Outcome                     0\n",
       "dtype: int64"
      ]
     },
     "execution_count": 6,
     "metadata": {},
     "output_type": "execute_result"
    }
   ],
   "source": [
    "diabetes_data.isnull().sum()"
   ]
  },
  {
   "cell_type": "code",
   "execution_count": 7,
   "id": "757b07ba-2fab-4367-8ec7-29f55fb1133c",
   "metadata": {},
   "outputs": [],
   "source": [
    "X = diabetes_data.drop(columns='Outcome', axis=1)\n",
    "Y = diabetes_data['Outcome']"
   ]
  },
  {
   "cell_type": "code",
   "execution_count": 8,
   "id": "201a505e-6fad-4e58-a8a2-2c84477516cb",
   "metadata": {},
   "outputs": [],
   "source": [
    "X = X.to_numpy()\n",
    "Y = Y.to_numpy()"
   ]
  },
  {
   "cell_type": "code",
   "execution_count": 9,
   "id": "00cdabdb-a5f7-4123-8cef-4bb9eaa59b83",
   "metadata": {},
   "outputs": [],
   "source": [
    "X_train, X_test, Y_train, Y_test = train_test_split(X, Y, test_size=0.2, stratify=Y, random_state=2)"
   ]
  },
  {
   "cell_type": "code",
   "execution_count": 10,
   "id": "70d02b8f-47a2-47a3-a9b4-0a48094bcc54",
   "metadata": {},
   "outputs": [],
   "source": [
    "X_train = np.insert(X_train, 8, Y_train, axis=1)"
   ]
  },
  {
   "cell_type": "code",
   "execution_count": 11,
   "id": "c18c0f62-b50a-4905-96aa-9cf960f776d7",
   "metadata": {},
   "outputs": [
    {
     "data": {
      "text/plain": [
       "(614, 9)"
      ]
     },
     "execution_count": 11,
     "metadata": {},
     "output_type": "execute_result"
    }
   ],
   "source": [
    "X_train.shape"
   ]
  },
  {
   "cell_type": "code",
   "execution_count": 12,
   "id": "452138f4-3cae-4de5-b6b3-4e24cc6d50e1",
   "metadata": {},
   "outputs": [],
   "source": [
    "classifier = KNN_classifier(distance_metric='Manhattan')"
   ]
  },
  {
   "cell_type": "code",
   "execution_count": 13,
   "id": "2b137eb2-8e72-4285-9cb4-9d4fbdb65317",
   "metadata": {},
   "outputs": [],
   "source": [
    "prediction = classifier.predict(X_train, X_test[1], k=5)"
   ]
  },
  {
   "cell_type": "code",
   "execution_count": 28,
   "id": "b91a8fd2-2507-4932-bf80-29992ace6152",
   "metadata": {},
   "outputs": [
    {
     "data": {
      "text/plain": [
       "array([  3.  , 113.  ,  44.  ,  13.  ,   0.  ,  22.4 ,   0.14,  22.  ])"
      ]
     },
     "execution_count": 28,
     "metadata": {},
     "output_type": "execute_result"
    }
   ],
   "source": [
    "X_test[1]"
   ]
  },
  {
   "cell_type": "code",
   "execution_count": 32,
   "id": "61de8b17-b9fc-406a-8cda-da98502e7853",
   "metadata": {},
   "outputs": [
    {
     "data": {
      "text/plain": [
       "0"
      ]
     },
     "execution_count": 32,
     "metadata": {},
     "output_type": "execute_result"
    }
   ],
   "source": [
    "Y_test[1]"
   ]
  },
  {
   "cell_type": "code",
   "execution_count": 34,
   "id": "8e3a5715-f781-4136-9b64-91f079178a70",
   "metadata": {},
   "outputs": [
    {
     "data": {
      "text/plain": [
       "0.0"
      ]
     },
     "execution_count": 34,
     "metadata": {},
     "output_type": "execute_result"
    }
   ],
   "source": [
    "prediction"
   ]
  },
  {
   "cell_type": "code",
   "execution_count": 36,
   "id": "0ebe7183-91b4-4eba-b8ab-1c0280ab0e82",
   "metadata": {},
   "outputs": [
    {
     "data": {
      "text/plain": [
       "(154, 8)"
      ]
     },
     "execution_count": 36,
     "metadata": {},
     "output_type": "execute_result"
    }
   ],
   "source": [
    "X_test.shape"
   ]
  },
  {
   "cell_type": "code",
   "execution_count": 38,
   "id": "ef303f8d-578d-4dc7-9273-4b343a41591a",
   "metadata": {},
   "outputs": [],
   "source": [
    "X_test_size = X_test.shape[0]"
   ]
  },
  {
   "cell_type": "code",
   "execution_count": 46,
   "id": "645f25c1-10ac-4b01-8086-b49374cdd1de",
   "metadata": {},
   "outputs": [],
   "source": [
    "y_pred = []\n",
    "\n",
    "for i in range(X_test_size):\n",
    "    prediction = classifier.predict(X_train, X_test[i], k=7)\n",
    "    y_pred.append(prediction)"
   ]
  },
  {
   "cell_type": "code",
   "execution_count": 48,
   "id": "41e0313f-1010-44bb-a890-7cff250145dd",
   "metadata": {},
   "outputs": [],
   "source": [
    "y_true = Y_test"
   ]
  },
  {
   "cell_type": "code",
   "execution_count": 50,
   "id": "c03e5166-3a93-4cb9-9fe6-deabc7df6290",
   "metadata": {},
   "outputs": [],
   "source": [
    "accuracy = accuracy_score(y_true, y_pred)"
   ]
  },
  {
   "cell_type": "code",
   "execution_count": 52,
   "id": "7fefadd9-05bc-4d11-945d-e5c34d7e144a",
   "metadata": {},
   "outputs": [
    {
     "name": "stdout",
     "output_type": "stream",
     "text": [
      "75.97402597402598\n"
     ]
    }
   ],
   "source": [
    "print(accuracy*100)"
   ]
  }
 ],
 "metadata": {
  "kernelspec": {
   "display_name": "Python 3 (ipykernel)",
   "language": "python",
   "name": "python3"
  },
  "language_info": {
   "codemirror_mode": {
    "name": "ipython",
    "version": 3
   },
   "file_extension": ".py",
   "mimetype": "text/x-python",
   "name": "python",
   "nbconvert_exporter": "python",
   "pygments_lexer": "ipython3",
   "version": "3.12.4"
  }
 },
 "nbformat": 4,
 "nbformat_minor": 5
}
