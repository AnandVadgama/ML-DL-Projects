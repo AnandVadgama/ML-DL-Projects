{
 "cells": [
  {
   "cell_type": "code",
   "execution_count": 1,
   "id": "1aa4dd8e-6bc0-40bb-86d4-7c816b7a7b46",
   "metadata": {},
   "outputs": [],
   "source": [
    "import numpy as np\n",
    "import pandas as pd\n",
    "from sklearn.model_selection import cross_val_score\n",
    "from sklearn.model_selection import GridSearchCV"
   ]
  },
  {
   "cell_type": "code",
   "execution_count": 2,
   "id": "3b710915-154c-4dd2-8e12-a5e114488b86",
   "metadata": {},
   "outputs": [],
   "source": [
    "from sklearn.linear_model import LogisticRegression\n",
    "from sklearn.svm import SVC\n",
    "from sklearn.neighbors import KNeighborsClassifier\n",
    "from sklearn.ensemble import RandomForestClassifier"
   ]
  },
  {
   "cell_type": "code",
   "execution_count": 3,
   "id": "35d5eada-732a-4e69-a1d6-09f43057d171",
   "metadata": {},
   "outputs": [],
   "source": [
    "dataframe = pd.read_csv('heart.csv')"
   ]
  },
  {
   "cell_type": "code",
   "execution_count": 4,
   "id": "66229a5a-6542-47de-a104-c55a850d5d40",
   "metadata": {},
   "outputs": [
    {
     "data": {
      "text/html": [
       "<div>\n",
       "<style scoped>\n",
       "    .dataframe tbody tr th:only-of-type {\n",
       "        vertical-align: middle;\n",
       "    }\n",
       "\n",
       "    .dataframe tbody tr th {\n",
       "        vertical-align: top;\n",
       "    }\n",
       "\n",
       "    .dataframe thead th {\n",
       "        text-align: right;\n",
       "    }\n",
       "</style>\n",
       "<table border=\"1\" class=\"dataframe\">\n",
       "  <thead>\n",
       "    <tr style=\"text-align: right;\">\n",
       "      <th></th>\n",
       "      <th>age</th>\n",
       "      <th>sex</th>\n",
       "      <th>cp</th>\n",
       "      <th>trestbps</th>\n",
       "      <th>chol</th>\n",
       "      <th>fbs</th>\n",
       "      <th>restecg</th>\n",
       "      <th>thalach</th>\n",
       "      <th>exang</th>\n",
       "      <th>oldpeak</th>\n",
       "      <th>slope</th>\n",
       "      <th>ca</th>\n",
       "      <th>thal</th>\n",
       "      <th>target</th>\n",
       "    </tr>\n",
       "  </thead>\n",
       "  <tbody>\n",
       "    <tr>\n",
       "      <th>0</th>\n",
       "      <td>63</td>\n",
       "      <td>1</td>\n",
       "      <td>3</td>\n",
       "      <td>145</td>\n",
       "      <td>233</td>\n",
       "      <td>1</td>\n",
       "      <td>0</td>\n",
       "      <td>150</td>\n",
       "      <td>0</td>\n",
       "      <td>2.3</td>\n",
       "      <td>0</td>\n",
       "      <td>0</td>\n",
       "      <td>1</td>\n",
       "      <td>1</td>\n",
       "    </tr>\n",
       "    <tr>\n",
       "      <th>1</th>\n",
       "      <td>37</td>\n",
       "      <td>1</td>\n",
       "      <td>2</td>\n",
       "      <td>130</td>\n",
       "      <td>250</td>\n",
       "      <td>0</td>\n",
       "      <td>1</td>\n",
       "      <td>187</td>\n",
       "      <td>0</td>\n",
       "      <td>3.5</td>\n",
       "      <td>0</td>\n",
       "      <td>0</td>\n",
       "      <td>2</td>\n",
       "      <td>1</td>\n",
       "    </tr>\n",
       "    <tr>\n",
       "      <th>2</th>\n",
       "      <td>41</td>\n",
       "      <td>0</td>\n",
       "      <td>1</td>\n",
       "      <td>130</td>\n",
       "      <td>204</td>\n",
       "      <td>0</td>\n",
       "      <td>0</td>\n",
       "      <td>172</td>\n",
       "      <td>0</td>\n",
       "      <td>1.4</td>\n",
       "      <td>2</td>\n",
       "      <td>0</td>\n",
       "      <td>2</td>\n",
       "      <td>1</td>\n",
       "    </tr>\n",
       "    <tr>\n",
       "      <th>3</th>\n",
       "      <td>56</td>\n",
       "      <td>1</td>\n",
       "      <td>1</td>\n",
       "      <td>120</td>\n",
       "      <td>236</td>\n",
       "      <td>0</td>\n",
       "      <td>1</td>\n",
       "      <td>178</td>\n",
       "      <td>0</td>\n",
       "      <td>0.8</td>\n",
       "      <td>2</td>\n",
       "      <td>0</td>\n",
       "      <td>2</td>\n",
       "      <td>1</td>\n",
       "    </tr>\n",
       "    <tr>\n",
       "      <th>4</th>\n",
       "      <td>57</td>\n",
       "      <td>0</td>\n",
       "      <td>0</td>\n",
       "      <td>120</td>\n",
       "      <td>354</td>\n",
       "      <td>0</td>\n",
       "      <td>1</td>\n",
       "      <td>163</td>\n",
       "      <td>1</td>\n",
       "      <td>0.6</td>\n",
       "      <td>2</td>\n",
       "      <td>0</td>\n",
       "      <td>2</td>\n",
       "      <td>1</td>\n",
       "    </tr>\n",
       "    <tr>\n",
       "      <th>...</th>\n",
       "      <td>...</td>\n",
       "      <td>...</td>\n",
       "      <td>...</td>\n",
       "      <td>...</td>\n",
       "      <td>...</td>\n",
       "      <td>...</td>\n",
       "      <td>...</td>\n",
       "      <td>...</td>\n",
       "      <td>...</td>\n",
       "      <td>...</td>\n",
       "      <td>...</td>\n",
       "      <td>...</td>\n",
       "      <td>...</td>\n",
       "      <td>...</td>\n",
       "    </tr>\n",
       "    <tr>\n",
       "      <th>298</th>\n",
       "      <td>57</td>\n",
       "      <td>0</td>\n",
       "      <td>0</td>\n",
       "      <td>140</td>\n",
       "      <td>241</td>\n",
       "      <td>0</td>\n",
       "      <td>1</td>\n",
       "      <td>123</td>\n",
       "      <td>1</td>\n",
       "      <td>0.2</td>\n",
       "      <td>1</td>\n",
       "      <td>0</td>\n",
       "      <td>3</td>\n",
       "      <td>0</td>\n",
       "    </tr>\n",
       "    <tr>\n",
       "      <th>299</th>\n",
       "      <td>45</td>\n",
       "      <td>1</td>\n",
       "      <td>3</td>\n",
       "      <td>110</td>\n",
       "      <td>264</td>\n",
       "      <td>0</td>\n",
       "      <td>1</td>\n",
       "      <td>132</td>\n",
       "      <td>0</td>\n",
       "      <td>1.2</td>\n",
       "      <td>1</td>\n",
       "      <td>0</td>\n",
       "      <td>3</td>\n",
       "      <td>0</td>\n",
       "    </tr>\n",
       "    <tr>\n",
       "      <th>300</th>\n",
       "      <td>68</td>\n",
       "      <td>1</td>\n",
       "      <td>0</td>\n",
       "      <td>144</td>\n",
       "      <td>193</td>\n",
       "      <td>1</td>\n",
       "      <td>1</td>\n",
       "      <td>141</td>\n",
       "      <td>0</td>\n",
       "      <td>3.4</td>\n",
       "      <td>1</td>\n",
       "      <td>2</td>\n",
       "      <td>3</td>\n",
       "      <td>0</td>\n",
       "    </tr>\n",
       "    <tr>\n",
       "      <th>301</th>\n",
       "      <td>57</td>\n",
       "      <td>1</td>\n",
       "      <td>0</td>\n",
       "      <td>130</td>\n",
       "      <td>131</td>\n",
       "      <td>0</td>\n",
       "      <td>1</td>\n",
       "      <td>115</td>\n",
       "      <td>1</td>\n",
       "      <td>1.2</td>\n",
       "      <td>1</td>\n",
       "      <td>1</td>\n",
       "      <td>3</td>\n",
       "      <td>0</td>\n",
       "    </tr>\n",
       "    <tr>\n",
       "      <th>302</th>\n",
       "      <td>57</td>\n",
       "      <td>0</td>\n",
       "      <td>1</td>\n",
       "      <td>130</td>\n",
       "      <td>236</td>\n",
       "      <td>0</td>\n",
       "      <td>0</td>\n",
       "      <td>174</td>\n",
       "      <td>0</td>\n",
       "      <td>0.0</td>\n",
       "      <td>1</td>\n",
       "      <td>1</td>\n",
       "      <td>2</td>\n",
       "      <td>0</td>\n",
       "    </tr>\n",
       "  </tbody>\n",
       "</table>\n",
       "<p>303 rows × 14 columns</p>\n",
       "</div>"
      ],
      "text/plain": [
       "     age  sex  cp  trestbps  chol  fbs  restecg  thalach  exang  oldpeak  \\\n",
       "0     63    1   3       145   233    1        0      150      0      2.3   \n",
       "1     37    1   2       130   250    0        1      187      0      3.5   \n",
       "2     41    0   1       130   204    0        0      172      0      1.4   \n",
       "3     56    1   1       120   236    0        1      178      0      0.8   \n",
       "4     57    0   0       120   354    0        1      163      1      0.6   \n",
       "..   ...  ...  ..       ...   ...  ...      ...      ...    ...      ...   \n",
       "298   57    0   0       140   241    0        1      123      1      0.2   \n",
       "299   45    1   3       110   264    0        1      132      0      1.2   \n",
       "300   68    1   0       144   193    1        1      141      0      3.4   \n",
       "301   57    1   0       130   131    0        1      115      1      1.2   \n",
       "302   57    0   1       130   236    0        0      174      0      0.0   \n",
       "\n",
       "     slope  ca  thal  target  \n",
       "0        0   0     1       1  \n",
       "1        0   0     2       1  \n",
       "2        2   0     2       1  \n",
       "3        2   0     2       1  \n",
       "4        2   0     2       1  \n",
       "..     ...  ..   ...     ...  \n",
       "298      1   0     3       0  \n",
       "299      1   0     3       0  \n",
       "300      1   2     3       0  \n",
       "301      1   1     3       0  \n",
       "302      1   1     2       0  \n",
       "\n",
       "[303 rows x 14 columns]"
      ]
     },
     "execution_count": 4,
     "metadata": {},
     "output_type": "execute_result"
    }
   ],
   "source": [
    "dataframe"
   ]
  },
  {
   "cell_type": "code",
   "execution_count": 5,
   "id": "b404e252-3da3-4cc0-9702-bfca4c922372",
   "metadata": {},
   "outputs": [
    {
     "data": {
      "text/plain": [
       "age         0\n",
       "sex         0\n",
       "cp          0\n",
       "trestbps    0\n",
       "chol        0\n",
       "fbs         0\n",
       "restecg     0\n",
       "thalach     0\n",
       "exang       0\n",
       "oldpeak     0\n",
       "slope       0\n",
       "ca          0\n",
       "thal        0\n",
       "target      0\n",
       "dtype: int64"
      ]
     },
     "execution_count": 5,
     "metadata": {},
     "output_type": "execute_result"
    }
   ],
   "source": [
    "dataframe.isnull().sum()"
   ]
  },
  {
   "cell_type": "code",
   "execution_count": 6,
   "id": "9b427658-1e2d-49be-888f-42d41bd9bc31",
   "metadata": {},
   "outputs": [
    {
     "data": {
      "text/plain": [
       "target\n",
       "1    165\n",
       "0    138\n",
       "Name: count, dtype: int64"
      ]
     },
     "execution_count": 6,
     "metadata": {},
     "output_type": "execute_result"
    }
   ],
   "source": [
    "dataframe['target'].value_counts()"
   ]
  },
  {
   "cell_type": "code",
   "execution_count": 7,
   "id": "79a9594a-f9b0-4e5b-bba9-e11bb3050531",
   "metadata": {},
   "outputs": [],
   "source": [
    "X = dataframe.drop(columns = 'target', axis=1)\n",
    "Y = dataframe['target']"
   ]
  },
  {
   "cell_type": "code",
   "execution_count": 8,
   "id": "00ed803f-28d4-4e49-82e2-9a755c5eff55",
   "metadata": {},
   "outputs": [],
   "source": [
    "X = np.asarray(X)\n",
    "Y = np.asarray(Y)"
   ]
  },
  {
   "cell_type": "code",
   "execution_count": 9,
   "id": "d6bc503d-a998-41c6-9201-f98a134b1a51",
   "metadata": {},
   "outputs": [],
   "source": [
    "# checking models with default hyperparameters\n",
    "models = [LogisticRegression(max_iter=1000), SVC(kernel='linear'), KNeighborsClassifier(),RandomForestClassifier()]"
   ]
  },
  {
   "cell_type": "code",
   "execution_count": 10,
   "id": "ebd380d5-5785-4eba-a834-6639851852aa",
   "metadata": {},
   "outputs": [],
   "source": [
    "def compare_models_cv():\n",
    "\n",
    "    for model in models:\n",
    "\n",
    "        cv_score = cross_val_score(model, X, Y, cv=2)\n",
    "        mean_accuracy = sum(cv_score)/len(cv_score)\n",
    "        mean_accuracy = mean_accuracy*100\n",
    "        mean_accuracy = round(mean_accuracy, 2)\n",
    "\n",
    "        print(\"Cross Validation Score of \", model, \"=\", cv_score)\n",
    "        print(\"Mean accuracy of \",model, \"=\", mean_accuracy)\n",
    "        print(\"---------------------------------------------------\")"
   ]
  },
  {
   "cell_type": "code",
   "execution_count": 11,
   "id": "bdc025aa-bc00-4993-8571-7e626d078b66",
   "metadata": {},
   "outputs": [
    {
     "name": "stdout",
     "output_type": "stream",
     "text": [
      "Cross Validation Score of  LogisticRegression(max_iter=1000) = [0.86184211 0.81456954]\n",
      "Mean accuracy of  LogisticRegression(max_iter=1000) = 83.82\n",
      "---------------------------------------------------\n",
      "Cross Validation Score of  SVC(kernel='linear') = [0.86184211 0.79470199]\n",
      "Mean accuracy of  SVC(kernel='linear') = 82.83\n",
      "---------------------------------------------------\n",
      "Cross Validation Score of  KNeighborsClassifier() = [0.66447368 0.66225166]\n",
      "Mean accuracy of  KNeighborsClassifier() = 66.34\n",
      "---------------------------------------------------\n",
      "Cross Validation Score of  RandomForestClassifier() = [0.84210526 0.79470199]\n",
      "Mean accuracy of  RandomForestClassifier() = 81.84\n",
      "---------------------------------------------------\n"
     ]
    }
   ],
   "source": [
    "compare_models_cv()"
   ]
  },
  {
   "cell_type": "code",
   "execution_count": 12,
   "id": "61c243d2-c0c7-41f2-9b33-8932ae472a46",
   "metadata": {},
   "outputs": [],
   "source": [
    "models_list = [LogisticRegression(max_iter=10000), SVC(), KNeighborsClassifier(),RandomForestClassifier(random_state=0)]"
   ]
  },
  {
   "cell_type": "code",
   "execution_count": 98,
   "id": "3f0a4123-37b4-42db-a31c-9a832a268f03",
   "metadata": {},
   "outputs": [],
   "source": [
    "model_hypertparameter = {\n",
    "    \n",
    "    'Logistic_Regression_hyperparameter':{\n",
    "        \n",
    "        'C':[1,5,10,20]\n",
    "    },\n",
    "    \n",
    "    'SVC_hyperparameter':{\n",
    "        \n",
    "        'kernel':['linear','poly','rbf','sigmoid'],\n",
    "        'C':[1,5,10,20]\n",
    "    },\n",
    "    \n",
    "    'K_Neibghbors_hyperparameter':{\n",
    "        \n",
    "        'n_neighbors':[3,5,10]\n",
    "    },\n",
    "    \n",
    "    'Random_forest_hyperparameter':{\n",
    "        \n",
    "        'n_estimators':[10,20,50,100]\n",
    "    }\n",
    "}"
   ]
  },
  {
   "cell_type": "code",
   "execution_count": 100,
   "id": "09d3b8fe-58e4-42ca-87c6-ede89e1570f9",
   "metadata": {},
   "outputs": [
    {
     "data": {
      "text/plain": [
       "dict"
      ]
     },
     "execution_count": 100,
     "metadata": {},
     "output_type": "execute_result"
    }
   ],
   "source": [
    "type(model_hypertparameter)"
   ]
  },
  {
   "cell_type": "code",
   "execution_count": 102,
   "id": "07838a60-d5f8-49e3-a2ca-4e69f651b5ea",
   "metadata": {},
   "outputs": [
    {
     "data": {
      "text/plain": [
       "dict_keys(['Logistic_Regression_hyperparameter', 'SVC_hyperparameter', 'K_Neibghbors_hyperparameter', 'Random_forest_hyperparameter'])"
      ]
     },
     "execution_count": 102,
     "metadata": {},
     "output_type": "execute_result"
    }
   ],
   "source": [
    "model_hypertparameter.keys()"
   ]
  },
  {
   "cell_type": "code",
   "execution_count": 104,
   "id": "0610f787-86a4-45ba-839d-73a56e04e2e9",
   "metadata": {},
   "outputs": [
    {
     "data": {
      "text/plain": [
       "{'C': [1, 5, 10, 20]}"
      ]
     },
     "execution_count": 104,
     "metadata": {},
     "output_type": "execute_result"
    }
   ],
   "source": [
    "model_hypertparameter['Logistic_Regression_hyperparameter']"
   ]
  },
  {
   "cell_type": "code",
   "execution_count": 106,
   "id": "45b3b040-74f0-48b5-9a79-23cec172276a",
   "metadata": {},
   "outputs": [],
   "source": [
    "model_keys = list(model_hypertparameter.keys())"
   ]
  },
  {
   "cell_type": "code",
   "execution_count": 108,
   "id": "52345cf3-eba5-4be1-a180-ed9c557d22b3",
   "metadata": {},
   "outputs": [
    {
     "data": {
      "text/plain": [
       "'Logistic_Regression_hyperparameter'"
      ]
     },
     "execution_count": 108,
     "metadata": {},
     "output_type": "execute_result"
    }
   ],
   "source": [
    "model_keys[0]"
   ]
  },
  {
   "cell_type": "code",
   "execution_count": 110,
   "id": "06f1ef16-aeba-4e6b-8804-6b6841128371",
   "metadata": {},
   "outputs": [
    {
     "data": {
      "text/plain": [
       "{'C': [1, 5, 10, 20]}"
      ]
     },
     "execution_count": 110,
     "metadata": {},
     "output_type": "execute_result"
    }
   ],
   "source": [
    "model_hypertparameter[model_keys[0]]"
   ]
  },
  {
   "cell_type": "code",
   "execution_count": 116,
   "id": "14bd99f8-0bc4-4ca3-acbb-ab8580028a26",
   "metadata": {},
   "outputs": [],
   "source": [
    "def ModelSelection(list_models, hyperparameter_dictionary):\n",
    "    result = []\n",
    "    i = 0\n",
    "    for model in list_models:\n",
    "        key = model_keys[i]\n",
    "        params = hyperparameter_dictionary[key]\n",
    "        i+=1\n",
    "\n",
    "        print(model)\n",
    "        print(params)\n",
    "        print(\"--------------------------------------------\")\n",
    "\n",
    "        classifier = GridSearchCV(model, params, cv=5)\n",
    "        \n",
    "        classifier.fit(X,Y)\n",
    "        result.append({\n",
    "            'model used': model,\n",
    "            'highest score': classifier.best_score_,\n",
    "            'best hyperparameters' : classifier.best_params_\n",
    "        })\n",
    "    result_dataframe = pd.DataFrame(result, columns=['model used', 'highest score', 'best hyperparameters'])\n",
    "    return result_dataframe"
   ]
  },
  {
   "cell_type": "code",
   "execution_count": 118,
   "id": "97aa2b30-404b-40e2-8ae4-1dc9f8110471",
   "metadata": {},
   "outputs": [
    {
     "name": "stdout",
     "output_type": "stream",
     "text": [
      "LogisticRegression(max_iter=10000)\n",
      "{'C': [1, 5, 10, 20]}\n",
      "--------------------------------------------\n",
      "SVC()\n",
      "{'kernel': ['linear', 'poly', 'rbf', 'sigmoid'], 'C': [1, 5, 10, 20]}\n",
      "--------------------------------------------\n",
      "KNeighborsClassifier()\n",
      "{'n_neighbors': [3, 5, 10]}\n",
      "--------------------------------------------\n",
      "RandomForestClassifier(random_state=0)\n",
      "{'n_estimators': [10, 20, 50, 100]}\n",
      "--------------------------------------------\n"
     ]
    },
    {
     "data": {
      "text/html": [
       "<div>\n",
       "<style scoped>\n",
       "    .dataframe tbody tr th:only-of-type {\n",
       "        vertical-align: middle;\n",
       "    }\n",
       "\n",
       "    .dataframe tbody tr th {\n",
       "        vertical-align: top;\n",
       "    }\n",
       "\n",
       "    .dataframe thead th {\n",
       "        text-align: right;\n",
       "    }\n",
       "</style>\n",
       "<table border=\"1\" class=\"dataframe\">\n",
       "  <thead>\n",
       "    <tr style=\"text-align: right;\">\n",
       "      <th></th>\n",
       "      <th>model used</th>\n",
       "      <th>highest score</th>\n",
       "      <th>best hyperparameters</th>\n",
       "    </tr>\n",
       "  </thead>\n",
       "  <tbody>\n",
       "    <tr>\n",
       "      <th>0</th>\n",
       "      <td>LogisticRegression(max_iter=10000)</td>\n",
       "      <td>0.831585</td>\n",
       "      <td>{'C': 5}</td>\n",
       "    </tr>\n",
       "    <tr>\n",
       "      <th>1</th>\n",
       "      <td>SVC()</td>\n",
       "      <td>0.828306</td>\n",
       "      <td>{'C': 1, 'kernel': 'linear'}</td>\n",
       "    </tr>\n",
       "    <tr>\n",
       "      <th>2</th>\n",
       "      <td>KNeighborsClassifier()</td>\n",
       "      <td>0.643880</td>\n",
       "      <td>{'n_neighbors': 5}</td>\n",
       "    </tr>\n",
       "    <tr>\n",
       "      <th>3</th>\n",
       "      <td>RandomForestClassifier(random_state=0)</td>\n",
       "      <td>0.841421</td>\n",
       "      <td>{'n_estimators': 100}</td>\n",
       "    </tr>\n",
       "  </tbody>\n",
       "</table>\n",
       "</div>"
      ],
      "text/plain": [
       "                               model used  highest score  \\\n",
       "0      LogisticRegression(max_iter=10000)       0.831585   \n",
       "1                                   SVC()       0.828306   \n",
       "2                  KNeighborsClassifier()       0.643880   \n",
       "3  RandomForestClassifier(random_state=0)       0.841421   \n",
       "\n",
       "           best hyperparameters  \n",
       "0                      {'C': 5}  \n",
       "1  {'C': 1, 'kernel': 'linear'}  \n",
       "2            {'n_neighbors': 5}  \n",
       "3         {'n_estimators': 100}  "
      ]
     },
     "execution_count": 118,
     "metadata": {},
     "output_type": "execute_result"
    }
   ],
   "source": [
    "ModelSelection(models_list, model_hypertparameter)"
   ]
  },
  {
   "cell_type": "code",
   "execution_count": null,
   "id": "40b4e6f0-d629-445b-aa0b-77630d3569da",
   "metadata": {},
   "outputs": [],
   "source": []
  }
 ],
 "metadata": {
  "kernelspec": {
   "display_name": "Python 3 (ipykernel)",
   "language": "python",
   "name": "python3"
  },
  "language_info": {
   "codemirror_mode": {
    "name": "ipython",
    "version": 3
   },
   "file_extension": ".py",
   "mimetype": "text/x-python",
   "name": "python",
   "nbconvert_exporter": "python",
   "pygments_lexer": "ipython3",
   "version": "3.12.4"
  }
 },
 "nbformat": 4,
 "nbformat_minor": 5
}
