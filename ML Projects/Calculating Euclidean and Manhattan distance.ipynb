{
 "cells": [
  {
   "cell_type": "code",
   "execution_count": 1,
   "id": "74a4e690-e393-4249-b4f9-6d432bfa86a4",
   "metadata": {},
   "outputs": [],
   "source": [
    "import numpy as np"
   ]
  },
  {
   "cell_type": "code",
   "execution_count": 3,
   "id": "730bdf25-e32a-4545-9661-24207b78a4aa",
   "metadata": {},
   "outputs": [],
   "source": [
    "# #for euclidean Distance\n",
    "# p1 = (1,1,1)\n",
    "# p2 = (2,2,2)\n",
    "\n",
    "# dist = (p1[0] - p2[0])**2 + (p1[1] - p2[1])**2 + (p1[2] - p2[2])**2\n",
    "# euclidean_dist = np.sqrt(dist)"
   ]
  },
  {
   "cell_type": "code",
   "execution_count": 5,
   "id": "64e0be3a-0d1d-4b8a-a1b7-7af867eb790d",
   "metadata": {},
   "outputs": [
    {
     "data": {
      "text/plain": [
       "1.7320508075688772"
      ]
     },
     "execution_count": 5,
     "metadata": {},
     "output_type": "execute_result"
    }
   ],
   "source": [
    "euclidean_dist"
   ]
  },
  {
   "cell_type": "code",
   "execution_count": 59,
   "id": "a243a154-f0ec-4828-8796-d41a14b98660",
   "metadata": {},
   "outputs": [],
   "source": [
    "#creating for loop for euclidean distance\n",
    "p1 = (1,1,1,1)\n",
    "p2 = (2,2,2,2)\n",
    "\n",
    "dist = 0\n",
    "\n",
    "for i in range(len(p1)):\n",
    "    dist = dist + (p1[i] - p2[i])**2\n",
    "\n",
    "euclidean_dist = np.sqrt(dist)"
   ]
  },
  {
   "cell_type": "code",
   "execution_count": 61,
   "id": "2ebf1d2c-8eec-4602-a32d-2308292e3c1a",
   "metadata": {},
   "outputs": [
    {
     "data": {
      "text/plain": [
       "2.0"
      ]
     },
     "execution_count": 61,
     "metadata": {},
     "output_type": "execute_result"
    }
   ],
   "source": [
    "euclidean_dist"
   ]
  },
  {
   "cell_type": "code",
   "execution_count": 63,
   "id": "aeb3218c-7995-4da9-b2a3-d07acdc301c7",
   "metadata": {},
   "outputs": [],
   "source": [
    "#creating function for euclidean distance\n",
    "def get_euclidean_dist(p1,p2):\n",
    "    dist = 0\n",
    "\n",
    "    for i in range(len(p1)):\n",
    "        dist = dist + (p1[i] - p2[i])**2\n",
    "\n",
    "    euclidean_dist = np.sqrt(dist)\n",
    "    print(euclidean_dist)"
   ]
  },
  {
   "cell_type": "code",
   "execution_count": 65,
   "id": "a7cfcb3f-13cc-486d-8ae2-f7d5674a6065",
   "metadata": {},
   "outputs": [
    {
     "name": "stdout",
     "output_type": "stream",
     "text": [
      "2.0\n"
     ]
    }
   ],
   "source": [
    "get_euclidean_dist((1,1,1,1),(2,2,2,2))"
   ]
  },
  {
   "cell_type": "code",
   "execution_count": 33,
   "id": "0ef092b3-6c46-402f-9f19-00cf67015d77",
   "metadata": {},
   "outputs": [],
   "source": [
    "# for manhattan distance\\\n",
    "def get_manhattan_dist(p1,p2):\n",
    "    dist = 0\n",
    "\n",
    "    for i in range(len(p1)):\n",
    "        dist = dist + abs(p1[i] - p2[i])\n",
    "\n",
    "    euclidean_dist = dist\n",
    "    print(euclidean_dist)"
   ]
  },
  {
   "cell_type": "code",
   "execution_count": 35,
   "id": "d74be4a8-2cb5-4347-ae1d-7f9bb298679b",
   "metadata": {},
   "outputs": [
    {
     "name": "stdout",
     "output_type": "stream",
     "text": [
      "4\n"
     ]
    }
   ],
   "source": [
    "get_manhattan_dist((1,1,1,1),(2,2,2,2))"
   ]
  },
  {
   "cell_type": "code",
   "execution_count": 67,
   "id": "53cb08dc-aba0-4754-b42b-2c60ae4a234d",
   "metadata": {},
   "outputs": [
    {
     "name": "stdout",
     "output_type": "stream",
     "text": [
      "59.06936681563465\n",
      "None\n",
      "119.436\n",
      "None\n"
     ]
    }
   ],
   "source": [
    "# calculating for diabetes data's datapoint distance\n",
    "print(get_euclidean_dist((6,148,72,35,0,33.6,0.627,50),(4,110,92,0,0,37.6,0.191,30)))\n",
    "print(get_manhattan_dist((6,148,72,35,0,33.6,0.627,50),(4,110,92,0,0,37.6,0.191,30)))"
   ]
  }
 ],
 "metadata": {
  "kernelspec": {
   "display_name": "Python 3 (ipykernel)",
   "language": "python",
   "name": "python3"
  },
  "language_info": {
   "codemirror_mode": {
    "name": "ipython",
    "version": 3
   },
   "file_extension": ".py",
   "mimetype": "text/x-python",
   "name": "python",
   "nbconvert_exporter": "python",
   "pygments_lexer": "ipython3",
   "version": "3.12.4"
  }
 },
 "nbformat": 4,
 "nbformat_minor": 5
}
